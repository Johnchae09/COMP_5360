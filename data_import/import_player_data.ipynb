{
 "cells": [
  {
   "cell_type": "code",
   "execution_count": 1,
   "id": "5232d4a8-1e6a-477c-aa4c-e99c75d825a2",
   "metadata": {
    "scrolled": true
   },
   "outputs": [
    {
     "data": {
      "text/plain": [
       "['03-04 player stats per game.csv',\n",
       " '17-18 player stats per game.csv',\n",
       " '01-02 player stats.csv',\n",
       " '18-19 player stats per game.csv',\n",
       " '15-16 player stats per game.csv',\n",
       " '01-02 player stats per game.csv',\n",
       " '05-06 player stats.csv',\n",
       " '17-18 player stats.csv',\n",
       " '11-12 player stats per game.csv',\n",
       " '08-09 player stats per game.csv',\n",
       " '12-13 player stats.csv',\n",
       " '05-06 player stats per game.csv',\n",
       " '20-21 player stats.csv',\n",
       " '13-14 player stats per game.csv',\n",
       " '07-08 player stats per game.csv',\n",
       " '18-19 player stats.csv',\n",
       " '20-21 player stats per game.csv',\n",
       " '16-17 player stats.csv',\n",
       " '14-15 player stats per game.csv',\n",
       " '06-07 player stats.csv',\n",
       " '08-09 player stats.csv',\n",
       " '00-01 player stats per game.csv',\n",
       " '09-10 player stats per game.csv',\n",
       " 'MVP player stats.csv',\n",
       " '02-03 player stats.csv',\n",
       " '21-22 player stats per game.csv',\n",
       " '15-16 player stats.csv',\n",
       " '07-08 player stats.csv',\n",
       " '10-11 player stats per game.csv',\n",
       " '11-12 player stats.csv',\n",
       " '04-05 player stats per game.csv',\n",
       " '10-11 player stats.csv',\n",
       " '19-20 player stats per game.csv',\n",
       " '22-23 player stats per game.csv',\n",
       " '22-23 player stats.csv',\n",
       " '14-15 player stats.csv',\n",
       " '03-04 player stats.csv',\n",
       " '04-05 player stats.csv',\n",
       " '13-14 player stats.csv',\n",
       " '00-01 player stats.csv',\n",
       " '02-03 player stats per game.csv',\n",
       " 'Defensive Player of the Year player stats.csv',\n",
       " '16-17 player stats per game.csv',\n",
       " '19-20 player stats.csv',\n",
       " '21-22 player stats.csv',\n",
       " '06-07 player stats per game.csv',\n",
       " '09-10 player stats.csv',\n",
       " '12-13 player stats per game.csv']"
      ]
     },
     "execution_count": 1,
     "metadata": {},
     "output_type": "execute_result"
    }
   ],
   "source": [
    "import os\n",
    "import glob\n",
    "import pandas as pd\n",
    "\n",
    "main_directory = os.path.normpath(os.getcwd() + os.sep + os.pardir)\n",
    "data_directory = os.path.join(main_directory, 'data')\n",
    "file_names = [f for f in os.listdir(data_directory) if os.path.isfile(os.path.join(data_directory, f))]\n",
    "file_names"
   ]
  },
  {
   "cell_type": "code",
   "execution_count": 2,
   "id": "0ff0e7d7-b690-46fa-b663-6c85c1f6214a",
   "metadata": {},
   "outputs": [
    {
     "data": {
      "text/plain": [
       "['01-02 player stats.csv',\n",
       " '05-06 player stats.csv',\n",
       " '17-18 player stats.csv',\n",
       " '12-13 player stats.csv',\n",
       " '20-21 player stats.csv',\n",
       " '18-19 player stats.csv',\n",
       " '16-17 player stats.csv',\n",
       " '06-07 player stats.csv',\n",
       " '08-09 player stats.csv',\n",
       " 'MVP player stats.csv',\n",
       " '02-03 player stats.csv',\n",
       " '15-16 player stats.csv',\n",
       " '07-08 player stats.csv',\n",
       " '11-12 player stats.csv',\n",
       " '10-11 player stats.csv',\n",
       " '22-23 player stats.csv',\n",
       " '14-15 player stats.csv',\n",
       " '03-04 player stats.csv',\n",
       " '04-05 player stats.csv',\n",
       " '13-14 player stats.csv',\n",
       " '00-01 player stats.csv',\n",
       " 'Defensive Player of the Year player stats.csv',\n",
       " '19-20 player stats.csv']"
      ]
     },
     "execution_count": 2,
     "metadata": {},
     "output_type": "execute_result"
    }
   ],
   "source": [
    "#lets seperate these excel files\n",
    "\n",
    "player_stat_csv = [file for file in file_names if 'stats.csv' in file]\n",
    "player_stat_pergame_csv = [file for file in file_names if 'game.csv' in file]\n",
    "player_stat_csv = player_stat_csv[:-2]\n",
    "player_stat_csv"
   ]
  },
  {
   "cell_type": "code",
   "execution_count": 3,
   "id": "a7a43aba-1946-4a95-b3e1-867dcaf1a35c",
   "metadata": {},
   "outputs": [
    {
     "data": {
      "text/plain": [
       "['03-04 player stats per game.csv',\n",
       " '17-18 player stats per game.csv',\n",
       " '18-19 player stats per game.csv',\n",
       " '15-16 player stats per game.csv',\n",
       " '01-02 player stats per game.csv',\n",
       " '11-12 player stats per game.csv',\n",
       " '08-09 player stats per game.csv',\n",
       " '05-06 player stats per game.csv',\n",
       " '13-14 player stats per game.csv',\n",
       " '07-08 player stats per game.csv',\n",
       " '20-21 player stats per game.csv',\n",
       " '14-15 player stats per game.csv',\n",
       " '00-01 player stats per game.csv',\n",
       " '09-10 player stats per game.csv',\n",
       " '21-22 player stats per game.csv',\n",
       " '10-11 player stats per game.csv',\n",
       " '04-05 player stats per game.csv',\n",
       " '19-20 player stats per game.csv',\n",
       " '22-23 player stats per game.csv',\n",
       " '02-03 player stats per game.csv',\n",
       " '16-17 player stats per game.csv',\n",
       " '06-07 player stats per game.csv',\n",
       " '12-13 player stats per game.csv']"
      ]
     },
     "execution_count": 3,
     "metadata": {},
     "output_type": "execute_result"
    }
   ],
   "source": [
    "player_stat_pergame_csv"
   ]
  },
  {
   "cell_type": "code",
   "execution_count": 4,
   "id": "96a64272",
   "metadata": {},
   "outputs": [],
   "source": [
    "#lets get the headers of each csv and see if we miss anything data while reading, some files may be inconsistent.\n",
    "directory = os.path.join(data_directory,player_stat_csv[0])\n",
    "df = pd.read_csv(directory)\n",
    "headers = df.columns\n",
    "\n",
    "\n"
   ]
  },
  {
   "cell_type": "code",
   "execution_count": 5,
   "id": "d145a0e0-35e6-44aa-8735-5bc91ee6895f",
   "metadata": {},
   "outputs": [
    {
     "name": "stdout",
     "output_type": "stream",
     "text": [
      "this file did not have matching header  MVP player stats.csv\n",
      "this file did not have matching header  Defensive Player of the Year player stats.csv\n"
     ]
    }
   ],
   "source": [
    "player_stat_df = pd.DataFrame()\n",
    "\n",
    "for filename in player_stat_csv:\n",
    "    directory = os.path.join(data_directory,filename)\n",
    "    df = pd.read_csv(directory)\n",
    "    if df.columns.equals(headers):\n",
    "        player_stat_df = pd.concat([player_stat_df, df])\n",
    "    else:\n",
    "        print('this file did not have matching header ',filename)\n",
    "    \n",
    "player_stat_df = player_stat_df.reset_index(drop=True)"
   ]
  },
  {
   "cell_type": "code",
   "execution_count": 6,
   "id": "31c5943e",
   "metadata": {},
   "outputs": [],
   "source": [
    "#lets get the headers of each csv and see if we miss anything data while reading, some files may be inconsistent.\n",
    "directory = os.path.join(data_directory,player_stat_pergame_csv[0])\n",
    "df = pd.read_csv(directory)\n",
    "headers = df.columns\n"
   ]
  },
  {
   "cell_type": "code",
   "execution_count": 7,
   "id": "0ad7d7c3-6657-437e-a4c2-417daa8800cf",
   "metadata": {},
   "outputs": [],
   "source": [
    "player_stat_game_df = pd.DataFrame()\n",
    "\n",
    "for filename in player_stat_pergame_csv:\n",
    "    directory = os.path.join(data_directory,filename)\n",
    "    df = pd.read_csv(directory)\n",
    "    if df.columns.equals(headers):\n",
    "        player_stat_game_df = pd.concat([player_stat_game_df, df])\n",
    "    else:\n",
    "        print('this file did not match the header ',filename)\n",
    "    \n",
    "player_stat_game_df = player_stat_game_df.reset_index(drop=True)\n",
    "#player_stat_game_df"
   ]
  },
  {
   "cell_type": "code",
   "execution_count": 8,
   "id": "d02f357f-6374-4588-8cd5-d43ce1819e7c",
   "metadata": {},
   "outputs": [],
   "source": [
    "#save this into a csv\n",
    "\n",
    "player_stat_game_df.to_csv('player_stat_per_game.csv',header=True,index=False)\n",
    "player_stat_df.to_csv('player_stat.csv',header=True,index=False)"
   ]
  },
  {
   "cell_type": "code",
   "execution_count": null,
   "id": "14060450",
   "metadata": {},
   "outputs": [],
   "source": []
  },
  {
   "cell_type": "code",
   "execution_count": null,
   "id": "05b62b49-ee4e-403f-a131-2e26702c3f17",
   "metadata": {},
   "outputs": [],
   "source": []
  }
 ],
 "metadata": {
  "kernelspec": {
   "display_name": "Python 3 (ipykernel)",
   "language": "python",
   "name": "python3"
  },
  "language_info": {
   "codemirror_mode": {
    "name": "ipython",
    "version": 3
   },
   "file_extension": ".py",
   "mimetype": "text/x-python",
   "name": "python",
   "nbconvert_exporter": "python",
   "pygments_lexer": "ipython3",
   "version": "3.9.13"
  }
 },
 "nbformat": 4,
 "nbformat_minor": 5
}
